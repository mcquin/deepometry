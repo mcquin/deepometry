{
 "cells": [
  {
   "cell_type": "code",
   "execution_count": null,
   "metadata": {},
   "outputs": [],
   "source": [
    "%matplotlib inline"
   ]
  },
  {
   "cell_type": "code",
   "execution_count": null,
   "metadata": {},
   "outputs": [],
   "source": [
    "import deepometry.model\n",
    "import deepometry.utils\n",
    "import deepometry.visualize\n",
    "import matplotlib.pyplot\n",
    "import pandas\n",
    "import skimage.io"
   ]
  },
  {
   "cell_type": "markdown",
   "metadata": {},
   "source": [
    "# Extract\n",
    "\n",
    "Suppose we have the following directory structure where images from one experiment (`experiment_00`) have been classified as one of three classes (`class_A`, `class_B`, or `class_C`). Data from this experiment was shown to the model during training. Images are saved as NPY files:\n",
    "\n",
    "    /data/\n",
    "        experiment_00/\n",
    "            class_A/\n",
    "                32e88e1ac3a8f44bf8f77371155553b9.npy\n",
    "                3dc56a0c446942aa0da170acfa922091.npy  \n",
    "                ...\n",
    "            class_B/\n",
    "                8068ef7dcddd89da4ca9740bd2ccb31e.npy\n",
    "                8348deaa70dfc95c46bd02984d28b873.npy\n",
    "                ...\n",
    "            class_C/  \n",
    "                c1ecbca7bd98c01c1d3293b64cd6739a.npy\n",
    "                c56cfb8e7e7121dd822e47c67d07e2d4.npy\n",
    "                ...\n",
    "                \n",
    "\n",
    "Use `deepometry.utils.load` to load images and their corresponding labels. The parameter `convert=False` ensures the values of `labels` are the subdirectory names of `experiment_00` (`class_A`, `class_B`, or `class_C`). "
   ]
  },
  {
   "cell_type": "code",
   "execution_count": null,
   "metadata": {},
   "outputs": [],
   "source": [
    "directories = [\"/data/experiment_02/\"]\n",
    "\n",
    "x, labels, units = deepometry.utils.load(directories, convert=False)"
   ]
  },
  {
   "cell_type": "markdown",
   "metadata": {},
   "source": [
    "Once the data is loaded, we can redefine the model and extract the embedded features of `x`. The features will be saved as a TSV file using pandas. We omit the column headers and the data frame indexes from the exported data."
   ]
  },
  {
   "cell_type": "code",
   "execution_count": null,
   "metadata": {},
   "outputs": [],
   "source": [
    "import keras.backend\n",
    "import tensorflow\n",
    "\n",
    "configuration = tensorflow.ConfigProto()\n",
    "configuration.gpu_options.allow_growth = True\n",
    "configuration.gpu_options.visible_device_list = \"2\"\n",
    "\n",
    "session = tensorflow.Session(config=configuration)\n",
    "keras.backend.set_session(session)"
   ]
  },
  {
   "cell_type": "code",
   "execution_count": null,
   "metadata": {},
   "outputs": [],
   "source": [
    "# Instantiate the model\n",
    "model = deepometry.model.Model(shape=x.shape[1:], units=units)\n",
    "model.compile()\n",
    "\n",
    "# Extract the features\n",
    "features = model.extract(x, batch_size=32, standardize=True, verbose=1)\n",
    "\n",
    "# Export features to data/features.tsv\n",
    "features_df = pandas.DataFrame(data=features)\n",
    "features_df.to_csv(\"data/features.tsv\", header=False, index=False, sep=\"\\t\")"
   ]
  },
  {
   "cell_type": "markdown",
   "metadata": {},
   "source": [
    "Additional metadata can also be exported as a TSV. In this example, we export a single-column TSV containing the label data. Single-column metadata should exclude the column header (`header=False`). Metadata containing more than one column should include the column header (`header=True`)."
   ]
  },
  {
   "cell_type": "code",
   "execution_count": null,
   "metadata": {},
   "outputs": [],
   "source": [
    "metadata_df = pandas.DataFrame(data=labels)\n",
    "metadata_df.to_csv(\"data/metadata.tsv\", header=False, index=False, sep=\"\\t\")"
   ]
  },
  {
   "cell_type": "markdown",
   "metadata": {},
   "source": [
    "When using TensorBoard to visualize an embedding, you can display a \"sprite\" image for each data point. A \"sprite\" is a small image. Use `deepometry.visualize.images_to_sprites` to create an NxN grid of sprites which TensorBoard can use to display image data for each feature."
   ]
  },
  {
   "cell_type": "code",
   "execution_count": null,
   "metadata": {},
   "outputs": [],
   "source": [
    "# Create the sprites image.\n",
    "sprites = deepometry.visualize.images_to_sprite(x)\n",
    "\n",
    "# Display the sprites image.\n",
    "matplotlib.pyplot.rcParams[\"figure.figsize\"] = (12, 12)\n",
    "matplotlib.pyplot.imshow(sprites)\n",
    "\n",
    "# Export the sprites image.\n",
    "skimage.io.imsave(\"data/sprites.png\", sprites)"
   ]
  }
 ],
 "metadata": {
  "kernelspec": {
   "display_name": "Python 3",
   "language": "python",
   "name": "python3"
  },
  "language_info": {
   "codemirror_mode": {
    "name": "ipython",
    "version": 3
   },
   "file_extension": ".py",
   "mimetype": "text/x-python",
   "name": "python",
   "nbconvert_exporter": "python",
   "pygments_lexer": "ipython3",
   "version": "3.6.4"
  }
 },
 "nbformat": 4,
 "nbformat_minor": 2
}
